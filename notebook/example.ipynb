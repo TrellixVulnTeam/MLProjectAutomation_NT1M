{
 "cells": [
  {
   "cell_type": "code",
   "execution_count": 2,
   "metadata": {},
   "outputs": [],
   "source": [
    "from collections import namedtuple"
   ]
  },
  {
   "cell_type": "markdown",
   "metadata": {},
   "source": [
    "1. Download url\n",
    "2. Download folder (compressed file)\n",
    "3. Extract folder (extracted file)\n",
    "4. train dataset folder\n",
    "5. test dataset folder"
   ]
  },
  {
   "cell_type": "code",
   "execution_count": 5,
   "metadata": {},
   "outputs": [],
   "source": [
    "DataIngestionConfig=namedtuple(\"DataIngestionConfig\",\n",
    "[\"dataset_download_url\", \"tgz_download_dir\", \"raw_data_dir\", \"ingested_train_dir\", \"ingested_test_dir\"])"
   ]
  },
  {
   "cell_type": "code",
   "execution_count": 6,
   "metadata": {},
   "outputs": [],
   "source": [
    "data_ingestion_config = DataIngestionConfig(dataset_download_url=\"asfasdf\",\n",
    "tgz_download_dir='asdasd',\n",
    "raw_data_dir=\"asdas\",\n",
    "ingested_train_dir=\"asdbfk\",\n",
    "ingested_test_dir=\"sadnjk\"\n",
    ")"
   ]
  },
  {
   "cell_type": "code",
   "execution_count": 7,
   "metadata": {},
   "outputs": [
    {
     "data": {
      "text/plain": [
       "DataIngestionConfig(dataset_download_url='asfasdf', tgz_download_dir='asdasd', raw_data_dir='asdas', ingested_train_dir='asdbfk', ingested_test_dir='sadnjk')"
      ]
     },
     "execution_count": 7,
     "metadata": {},
     "output_type": "execute_result"
    }
   ],
   "source": [
    "data_ingestion_config"
   ]
  },
  {
   "cell_type": "code",
   "execution_count": 8,
   "metadata": {},
   "outputs": [],
   "source": [
    "import yaml\n",
    "import os"
   ]
  },
  {
   "cell_type": "code",
   "execution_count": 10,
   "metadata": {},
   "outputs": [
    {
     "data": {
      "text/plain": [
       "'/Users/asitpiri/Documents/Projects/Asit/DataScience/MLProjectAutomation/notebook'"
      ]
     },
     "execution_count": 10,
     "metadata": {},
     "output_type": "execute_result"
    }
   ],
   "source": [
    "os.getcwd()"
   ]
  },
  {
   "cell_type": "code",
   "execution_count": 11,
   "metadata": {},
   "outputs": [],
   "source": [
    "os.chdir('/Users/asitpiri/Documents/Projects/Asit/DataScience/MLProjectAutomation')"
   ]
  },
  {
   "cell_type": "code",
   "execution_count": 12,
   "metadata": {},
   "outputs": [
    {
     "data": {
      "text/plain": [
       "<function posix.getcwd()>"
      ]
     },
     "execution_count": 12,
     "metadata": {},
     "output_type": "execute_result"
    }
   ],
   "source": [
    "os.getcwd"
   ]
  },
  {
   "cell_type": "code",
   "execution_count": 13,
   "metadata": {},
   "outputs": [],
   "source": [
    "config_file_path=os.path.join(\"config\", \"config.yaml\")"
   ]
  },
  {
   "cell_type": "code",
   "execution_count": 14,
   "metadata": {},
   "outputs": [
    {
     "data": {
      "text/plain": [
       "'config/config.yaml'"
      ]
     },
     "execution_count": 14,
     "metadata": {},
     "output_type": "execute_result"
    }
   ],
   "source": [
    "config_file_path"
   ]
  },
  {
   "cell_type": "code",
   "execution_count": 15,
   "metadata": {},
   "outputs": [
    {
     "data": {
      "text/plain": [
       "True"
      ]
     },
     "execution_count": 15,
     "metadata": {},
     "output_type": "execute_result"
    }
   ],
   "source": [
    "os.path.exists(config_file_path)"
   ]
  },
  {
   "cell_type": "code",
   "execution_count": 16,
   "metadata": {},
   "outputs": [
    {
     "data": {
      "text/plain": [
       "'/Users/asitpiri/Documents/Projects/Asit/DataScience/MLProjectAutomation'"
      ]
     },
     "execution_count": 16,
     "metadata": {},
     "output_type": "execute_result"
    }
   ],
   "source": [
    "os.getcwd()"
   ]
  },
  {
   "cell_type": "code",
   "execution_count": 17,
   "metadata": {},
   "outputs": [],
   "source": [
    "config_info=None\n",
    "with open(config_file_path, \"rb\") as yaml_file:\n",
    "    config_info=yaml.safe_load(yaml_file)"
   ]
  },
  {
   "cell_type": "code",
   "execution_count": 18,
   "metadata": {},
   "outputs": [
    {
     "data": {
      "text/plain": [
       "{'dataset_download_url': 'https://raw.githubusercontent.com/ageron/handson-ml/master/datasets/housing/housing.tgz',\n",
       " 'raw_data_dir': 'raw_data',\n",
       " 'tgz_download_dir': 'tgz_data',\n",
       " 'ingested_dir': 'ingested_data',\n",
       " 'ingested_train_dir': 'train',\n",
       " 'ingested_test_dir': 'test'}"
      ]
     },
     "execution_count": 18,
     "metadata": {},
     "output_type": "execute_result"
    }
   ],
   "source": [
    "config_info[\"data_ingestion_config\"]"
   ]
  },
  {
   "cell_type": "code",
   "execution_count": 34,
   "metadata": {},
   "outputs": [],
   "source": [
    "def read_yaml_file(file_path:str)->dict:\n",
    "    \"\"\"\n",
    "    Reads a YAML file and returns the contents as a dictionary.\n",
    "    file_path: str\n",
    "    \"\"\"\n",
    "    try:\n",
    "        with open(file_path, 'rb') as yaml_file:\n",
    "            return yaml.safe_load(yaml_file)\n",
    "    except Exception as e:\n",
    "        raise e"
   ]
  },
  {
   "cell_type": "code",
   "execution_count": 35,
   "metadata": {},
   "outputs": [],
   "source": [
    "config =read_yaml_file(config_file_path)"
   ]
  },
  {
   "cell_type": "code",
   "execution_count": 36,
   "metadata": {},
   "outputs": [],
   "source": [
    "from housing.constant import *"
   ]
  },
  {
   "cell_type": "code",
   "execution_count": 38,
   "metadata": {},
   "outputs": [
    {
     "ename": "NameError",
     "evalue": "name 'TRAINING_PIPELINE_CONFIG_KEY' is not defined",
     "output_type": "error",
     "traceback": [
      "\u001b[0;31m---------------------------------------------------------------------------\u001b[0m",
      "\u001b[0;31mNameError\u001b[0m                                 Traceback (most recent call last)",
      "\u001b[1;32m/Users/asitpiri/Documents/Projects/Asit/Data Science/MLProjectAutomation/notebook/example.ipynb Cell 19'\u001b[0m in \u001b[0;36m<cell line: 1>\u001b[0;34m()\u001b[0m\n\u001b[0;32m----> <a href='vscode-notebook-cell:/Users/asitpiri/Documents/Projects/Asit/Data%20Science/MLProjectAutomation/notebook/example.ipynb#ch0000018?line=0'>1</a>\u001b[0m TRAINING_PIPELINE_CONFIG_KEY\n",
      "\u001b[0;31mNameError\u001b[0m: name 'TRAINING_PIPELINE_CONFIG_KEY' is not defined"
     ]
    }
   ],
   "source": [
    "TRAINING_PIPELINE_CONFIG_KEY"
   ]
  },
  {
   "cell_type": "code",
   "execution_count": 39,
   "metadata": {},
   "outputs": [
    {
     "ename": "NameError",
     "evalue": "name 'TRAINING_PIPELINE_CONFIG_KEY' is not defined",
     "output_type": "error",
     "traceback": [
      "\u001b[0;31m---------------------------------------------------------------------------\u001b[0m",
      "\u001b[0;31mNameError\u001b[0m                                 Traceback (most recent call last)",
      "\u001b[1;32m/Users/asitpiri/Documents/Projects/Asit/Data Science/MLProjectAutomation/notebook/example.ipynb Cell 20'\u001b[0m in \u001b[0;36m<cell line: 1>\u001b[0;34m()\u001b[0m\n\u001b[0;32m----> <a href='vscode-notebook-cell:/Users/asitpiri/Documents/Projects/Asit/Data%20Science/MLProjectAutomation/notebook/example.ipynb#ch0000019?line=0'>1</a>\u001b[0m config[TRAINING_PIPELINE_CONFIG_KEY]\n",
      "\u001b[0;31mNameError\u001b[0m: name 'TRAINING_PIPELINE_CONFIG_KEY' is not defined"
     ]
    }
   ],
   "source": [
    "config[TRAINING_PIPELINE_CONFIG_KEY]"
   ]
  },
  {
   "cell_type": "code",
   "execution_count": 40,
   "metadata": {},
   "outputs": [
    {
     "ename": "NameError",
     "evalue": "name 'TRAINING_PIPELINE_CONFIG_KEY' is not defined",
     "output_type": "error",
     "traceback": [
      "\u001b[0;31m---------------------------------------------------------------------------\u001b[0m",
      "\u001b[0;31mNameError\u001b[0m                                 Traceback (most recent call last)",
      "\u001b[1;32m/Users/asitpiri/Documents/Projects/Asit/Data Science/MLProjectAutomation/notebook/example.ipynb Cell 21'\u001b[0m in \u001b[0;36m<cell line: 1>\u001b[0;34m()\u001b[0m\n\u001b[0;32m----> <a href='vscode-notebook-cell:/Users/asitpiri/Documents/Projects/Asit/Data%20Science/MLProjectAutomation/notebook/example.ipynb#ch0000020?line=0'>1</a>\u001b[0m config[TRAINING_PIPELINE_CONFIG_KEY][TRAINING_PIPELINE_NAME_KEY]\n",
      "\u001b[0;31mNameError\u001b[0m: name 'TRAINING_PIPELINE_CONFIG_KEY' is not defined"
     ]
    }
   ],
   "source": [
    "config[TRAINING_PIPELINE_CONFIG_KEY][TRAINING_PIPELINE_NAME_KEY]"
   ]
  },
  {
   "cell_type": "code",
   "execution_count": 41,
   "metadata": {},
   "outputs": [
    {
     "ename": "NameError",
     "evalue": "name 'TRAINING_PIPELINE_CONFIG_KEY' is not defined",
     "output_type": "error",
     "traceback": [
      "\u001b[0;31m---------------------------------------------------------------------------\u001b[0m",
      "\u001b[0;31mNameError\u001b[0m                                 Traceback (most recent call last)",
      "\u001b[1;32m/Users/asitpiri/Documents/Projects/Asit/Data Science/MLProjectAutomation/notebook/example.ipynb Cell 22'\u001b[0m in \u001b[0;36m<cell line: 1>\u001b[0;34m()\u001b[0m\n\u001b[0;32m----> <a href='vscode-notebook-cell:/Users/asitpiri/Documents/Projects/Asit/Data%20Science/MLProjectAutomation/notebook/example.ipynb#ch0000021?line=0'>1</a>\u001b[0m training_pipeline_config \u001b[39m=\u001b[39m config[TRAINING_PIPELINE_CONFIG_KEY]\n\u001b[1;32m      <a href='vscode-notebook-cell:/Users/asitpiri/Documents/Projects/Asit/Data%20Science/MLProjectAutomation/notebook/example.ipynb#ch0000021?line=1'>2</a>\u001b[0m artifact_dir \u001b[39m=\u001b[39m os\u001b[39m.\u001b[39mpath\u001b[39m.\u001b[39mjoin(ROOT_DIR,\n\u001b[1;32m      <a href='vscode-notebook-cell:/Users/asitpiri/Documents/Projects/Asit/Data%20Science/MLProjectAutomation/notebook/example.ipynb#ch0000021?line=2'>3</a>\u001b[0m training_pipeline_config[TRAINING_PIPELINE_NAME_KEY],\n\u001b[1;32m      <a href='vscode-notebook-cell:/Users/asitpiri/Documents/Projects/Asit/Data%20Science/MLProjectAutomation/notebook/example.ipynb#ch0000021?line=3'>4</a>\u001b[0m training_pipeline_config[TRAINING_PIPELINE_ARTIFACT_DIR_KEY]\n\u001b[1;32m      <a href='vscode-notebook-cell:/Users/asitpiri/Documents/Projects/Asit/Data%20Science/MLProjectAutomation/notebook/example.ipynb#ch0000021?line=4'>5</a>\u001b[0m )\n",
      "\u001b[0;31mNameError\u001b[0m: name 'TRAINING_PIPELINE_CONFIG_KEY' is not defined"
     ]
    }
   ],
   "source": [
    "training_pipeline_config = config[TRAINING_PIPELINE_CONFIG_KEY]\n",
    "artifact_dir = os.path.join(ROOT_DIR,\n",
    "training_pipeline_config[TRAINING_PIPELINE_NAME_KEY],\n",
    "training_pipeline_config[TRAINING_PIPELINE_ARTIFACT_DIR_KEY]\n",
    ")"
   ]
  },
  {
   "cell_type": "code",
   "execution_count": 42,
   "metadata": {},
   "outputs": [
    {
     "ename": "NameError",
     "evalue": "name 'ROOT_DIR' is not defined",
     "output_type": "error",
     "traceback": [
      "\u001b[0;31m---------------------------------------------------------------------------\u001b[0m",
      "\u001b[0;31mNameError\u001b[0m                                 Traceback (most recent call last)",
      "\u001b[1;32m/Users/asitpiri/Documents/Projects/Asit/Data Science/MLProjectAutomation/notebook/example.ipynb Cell 23'\u001b[0m in \u001b[0;36m<cell line: 1>\u001b[0;34m()\u001b[0m\n\u001b[0;32m----> <a href='vscode-notebook-cell:/Users/asitpiri/Documents/Projects/Asit/Data%20Science/MLProjectAutomation/notebook/example.ipynb#ch0000022?line=0'>1</a>\u001b[0m ROOT_DIR\n",
      "\u001b[0;31mNameError\u001b[0m: name 'ROOT_DIR' is not defined"
     ]
    }
   ],
   "source": [
    "ROOT_DIR"
   ]
  },
  {
   "cell_type": "code",
   "execution_count": 43,
   "metadata": {},
   "outputs": [
    {
     "ename": "NameError",
     "evalue": "name 'training_pipeline_config' is not defined",
     "output_type": "error",
     "traceback": [
      "\u001b[0;31m---------------------------------------------------------------------------\u001b[0m",
      "\u001b[0;31mNameError\u001b[0m                                 Traceback (most recent call last)",
      "\u001b[1;32m/Users/asitpiri/Documents/Projects/Asit/Data Science/MLProjectAutomation/notebook/example.ipynb Cell 24'\u001b[0m in \u001b[0;36m<cell line: 1>\u001b[0;34m()\u001b[0m\n\u001b[0;32m----> <a href='vscode-notebook-cell:/Users/asitpiri/Documents/Projects/Asit/Data%20Science/MLProjectAutomation/notebook/example.ipynb#ch0000023?line=0'>1</a>\u001b[0m training_pipeline_config[TRAINING_PIPELINE_NAME_KEY]\n",
      "\u001b[0;31mNameError\u001b[0m: name 'training_pipeline_config' is not defined"
     ]
    }
   ],
   "source": [
    "training_pipeline_config[TRAINING_PIPELINE_NAME_KEY]"
   ]
  },
  {
   "cell_type": "code",
   "execution_count": 44,
   "metadata": {},
   "outputs": [
    {
     "ename": "NameError",
     "evalue": "name 'training_pipeline_config' is not defined",
     "output_type": "error",
     "traceback": [
      "\u001b[0;31m---------------------------------------------------------------------------\u001b[0m",
      "\u001b[0;31mNameError\u001b[0m                                 Traceback (most recent call last)",
      "\u001b[1;32m/Users/asitpiri/Documents/Projects/Asit/Data Science/MLProjectAutomation/notebook/example.ipynb Cell 25'\u001b[0m in \u001b[0;36m<cell line: 1>\u001b[0;34m()\u001b[0m\n\u001b[0;32m----> <a href='vscode-notebook-cell:/Users/asitpiri/Documents/Projects/Asit/Data%20Science/MLProjectAutomation/notebook/example.ipynb#ch0000024?line=0'>1</a>\u001b[0m training_pipeline_config[TRAINING_PIPELINE_ARTIFACT_DIR_KEY]\n",
      "\u001b[0;31mNameError\u001b[0m: name 'training_pipeline_config' is not defined"
     ]
    }
   ],
   "source": [
    "training_pipeline_config[TRAINING_PIPELINE_ARTIFACT_DIR_KEY]"
   ]
  },
  {
   "cell_type": "code",
   "execution_count": 45,
   "metadata": {},
   "outputs": [
    {
     "ename": "NameError",
     "evalue": "name 'artifact_dir' is not defined",
     "output_type": "error",
     "traceback": [
      "\u001b[0;31m---------------------------------------------------------------------------\u001b[0m",
      "\u001b[0;31mNameError\u001b[0m                                 Traceback (most recent call last)",
      "\u001b[1;32m/Users/asitpiri/Documents/Projects/Asit/Data Science/MLProjectAutomation/notebook/example.ipynb Cell 26'\u001b[0m in \u001b[0;36m<cell line: 1>\u001b[0;34m()\u001b[0m\n\u001b[0;32m----> <a href='vscode-notebook-cell:/Users/asitpiri/Documents/Projects/Asit/Data%20Science/MLProjectAutomation/notebook/example.ipynb#ch0000025?line=0'>1</a>\u001b[0m artifact_dir\n",
      "\u001b[0;31mNameError\u001b[0m: name 'artifact_dir' is not defined"
     ]
    }
   ],
   "source": [
    "artifact_dir"
   ]
  },
  {
   "cell_type": "code",
   "execution_count": 46,
   "metadata": {},
   "outputs": [
    {
     "ename": "ModuleNotFoundError",
     "evalue": "No module named 'housing.config'",
     "output_type": "error",
     "traceback": [
      "\u001b[0;31m---------------------------------------------------------------------------\u001b[0m",
      "\u001b[0;31mModuleNotFoundError\u001b[0m                       Traceback (most recent call last)",
      "\u001b[1;32m/Users/asitpiri/Documents/Projects/Asit/Data Science/MLProjectAutomation/notebook/example.ipynb Cell 27'\u001b[0m in \u001b[0;36m<cell line: 1>\u001b[0;34m()\u001b[0m\n\u001b[0;32m----> <a href='vscode-notebook-cell:/Users/asitpiri/Documents/Projects/Asit/Data%20Science/MLProjectAutomation/notebook/example.ipynb#ch0000026?line=0'>1</a>\u001b[0m \u001b[39mfrom\u001b[39;00m \u001b[39mhousing\u001b[39;00m\u001b[39m.\u001b[39;00m\u001b[39mconfig\u001b[39;00m\u001b[39m.\u001b[39;00m\u001b[39mconfiguration\u001b[39;00m \u001b[39mimport\u001b[39;00m Configuartion\n",
      "\u001b[0;31mModuleNotFoundError\u001b[0m: No module named 'housing.config'"
     ]
    }
   ],
   "source": [
    "from housing.config.configuration import Configuartion"
   ]
  },
  {
   "cell_type": "code",
   "execution_count": 47,
   "metadata": {},
   "outputs": [
    {
     "data": {
      "text/plain": [
       "'/Users/asitpiri/Documents/Projects/Asit/Data Science/MLProjectAutomation'"
      ]
     },
     "execution_count": 47,
     "metadata": {},
     "output_type": "execute_result"
    }
   ],
   "source": [
    "os.getcwd()"
   ]
  },
  {
   "cell_type": "code",
   "execution_count": 48,
   "metadata": {},
   "outputs": [
    {
     "ename": "NameError",
     "evalue": "name 'Configuartion' is not defined",
     "output_type": "error",
     "traceback": [
      "\u001b[0;31m---------------------------------------------------------------------------\u001b[0m",
      "\u001b[0;31mNameError\u001b[0m                                 Traceback (most recent call last)",
      "\u001b[1;32m/Users/asitpiri/Documents/Projects/Asit/Data Science/MLProjectAutomation/notebook/example.ipynb Cell 29'\u001b[0m in \u001b[0;36m<cell line: 1>\u001b[0;34m()\u001b[0m\n\u001b[0;32m----> <a href='vscode-notebook-cell:/Users/asitpiri/Documents/Projects/Asit/Data%20Science/MLProjectAutomation/notebook/example.ipynb#ch0000028?line=0'>1</a>\u001b[0m config \u001b[39m=\u001b[39m Configuartion(config_file_path\u001b[39m=\u001b[39m\u001b[39m\"\u001b[39m\u001b[39m/Users/asitpiri/Documents/Projects/Asit/Data Science/MLProjectAutomation\u001b[39m\u001b[39m\\\u001b[39m\u001b[39mconfig\u001b[39m\u001b[39m\\\u001b[39m\u001b[39mconfig.yaml\u001b[39m\u001b[39m\"\u001b[39m)\n",
      "\u001b[0;31mNameError\u001b[0m: name 'Configuartion' is not defined"
     ]
    }
   ],
   "source": [
    "config = Configuartion(config_file_path=\"/Users/asitpiri/Documents/Projects/Asit/Data Science/MLProjectAutomation\\config\\config.yaml\")"
   ]
  },
  {
   "cell_type": "code",
   "execution_count": 49,
   "metadata": {},
   "outputs": [
    {
     "ename": "AttributeError",
     "evalue": "'dict' object has no attribute 'get_training_pipeline_config'",
     "output_type": "error",
     "traceback": [
      "\u001b[0;31m---------------------------------------------------------------------------\u001b[0m",
      "\u001b[0;31mAttributeError\u001b[0m                            Traceback (most recent call last)",
      "\u001b[1;32m/Users/asitpiri/Documents/Projects/Asit/Data Science/MLProjectAutomation/notebook/example.ipynb Cell 30'\u001b[0m in \u001b[0;36m<cell line: 1>\u001b[0;34m()\u001b[0m\n\u001b[0;32m----> <a href='vscode-notebook-cell:/Users/asitpiri/Documents/Projects/Asit/Data%20Science/MLProjectAutomation/notebook/example.ipynb#ch0000029?line=0'>1</a>\u001b[0m training_pipeline_config\u001b[39m=\u001b[39mconfig\u001b[39m.\u001b[39;49mget_training_pipeline_config()\n",
      "\u001b[0;31mAttributeError\u001b[0m: 'dict' object has no attribute 'get_training_pipeline_config'"
     ]
    }
   ],
   "source": [
    "training_pipeline_config=config.get_training_pipeline_config()"
   ]
  },
  {
   "cell_type": "code",
   "execution_count": 50,
   "metadata": {},
   "outputs": [
    {
     "ename": "NameError",
     "evalue": "name 'training_pipeline_config' is not defined",
     "output_type": "error",
     "traceback": [
      "\u001b[0;31m---------------------------------------------------------------------------\u001b[0m",
      "\u001b[0;31mNameError\u001b[0m                                 Traceback (most recent call last)",
      "\u001b[1;32m/Users/asitpiri/Documents/Projects/Asit/Data Science/MLProjectAutomation/notebook/example.ipynb Cell 31'\u001b[0m in \u001b[0;36m<cell line: 1>\u001b[0;34m()\u001b[0m\n\u001b[0;32m----> <a href='vscode-notebook-cell:/Users/asitpiri/Documents/Projects/Asit/Data%20Science/MLProjectAutomation/notebook/example.ipynb#ch0000030?line=0'>1</a>\u001b[0m artifact_dir \u001b[39m=\u001b[39m training_pipeline_config\u001b[39m.\u001b[39martifact_dir\n",
      "\u001b[0;31mNameError\u001b[0m: name 'training_pipeline_config' is not defined"
     ]
    }
   ],
   "source": [
    "artifact_dir = training_pipeline_config.artifact_dir"
   ]
  },
  {
   "cell_type": "code",
   "execution_count": 51,
   "metadata": {},
   "outputs": [
    {
     "ename": "NameError",
     "evalue": "name 'DATA_INGESTION_ARTIFACT_DIR' is not defined",
     "output_type": "error",
     "traceback": [
      "\u001b[0;31m---------------------------------------------------------------------------\u001b[0m",
      "\u001b[0;31mNameError\u001b[0m                                 Traceback (most recent call last)",
      "\u001b[1;32m/Users/asitpiri/Documents/Projects/Asit/Data Science/MLProjectAutomation/notebook/example.ipynb Cell 32'\u001b[0m in \u001b[0;36m<cell line: 1>\u001b[0;34m()\u001b[0m\n\u001b[0;32m----> <a href='vscode-notebook-cell:/Users/asitpiri/Documents/Projects/Asit/Data%20Science/MLProjectAutomation/notebook/example.ipynb#ch0000031?line=0'>1</a>\u001b[0m DATA_INGESTION_ARTIFACT_DIR\n",
      "\u001b[0;31mNameError\u001b[0m: name 'DATA_INGESTION_ARTIFACT_DIR' is not defined"
     ]
    }
   ],
   "source": [
    "DATA_INGESTION_ARTIFACT_DIR"
   ]
  },
  {
   "cell_type": "code",
   "execution_count": 52,
   "metadata": {},
   "outputs": [
    {
     "ename": "NameError",
     "evalue": "name 'CURRENT_TIME_STAMP' is not defined",
     "output_type": "error",
     "traceback": [
      "\u001b[0;31m---------------------------------------------------------------------------\u001b[0m",
      "\u001b[0;31mNameError\u001b[0m                                 Traceback (most recent call last)",
      "\u001b[1;32m/Users/asitpiri/Documents/Projects/Asit/Data Science/MLProjectAutomation/notebook/example.ipynb Cell 33'\u001b[0m in \u001b[0;36m<cell line: 1>\u001b[0;34m()\u001b[0m\n\u001b[0;32m----> <a href='vscode-notebook-cell:/Users/asitpiri/Documents/Projects/Asit/Data%20Science/MLProjectAutomation/notebook/example.ipynb#ch0000032?line=0'>1</a>\u001b[0m CURRENT_TIME_STAMP\n",
      "\u001b[0;31mNameError\u001b[0m: name 'CURRENT_TIME_STAMP' is not defined"
     ]
    }
   ],
   "source": [
    "CURRENT_TIME_STAMP"
   ]
  },
  {
   "cell_type": "code",
   "execution_count": 53,
   "metadata": {},
   "outputs": [],
   "source": [
    "from housing.constant import *"
   ]
  },
  {
   "cell_type": "code",
   "execution_count": 54,
   "metadata": {},
   "outputs": [
    {
     "ename": "AttributeError",
     "evalue": "'dict' object has no attribute 'config_info'",
     "output_type": "error",
     "traceback": [
      "\u001b[0;31m---------------------------------------------------------------------------\u001b[0m",
      "\u001b[0;31mAttributeError\u001b[0m                            Traceback (most recent call last)",
      "\u001b[1;32m/Users/asitpiri/Documents/Projects/Asit/Data Science/MLProjectAutomation/notebook/example.ipynb Cell 35'\u001b[0m in \u001b[0;36m<cell line: 1>\u001b[0;34m()\u001b[0m\n\u001b[0;32m----> <a href='vscode-notebook-cell:/Users/asitpiri/Documents/Projects/Asit/Data%20Science/MLProjectAutomation/notebook/example.ipynb#ch0000034?line=0'>1</a>\u001b[0m data_ingestion_info\u001b[39m=\u001b[39mconfig\u001b[39m.\u001b[39;49mconfig_info[DATA_INGESTION_CONFIG_KEY]\n",
      "\u001b[0;31mAttributeError\u001b[0m: 'dict' object has no attribute 'config_info'"
     ]
    }
   ],
   "source": [
    "data_ingestion_info=config.config_info[DATA_INGESTION_CONFIG_KEY]"
   ]
  },
  {
   "cell_type": "code",
   "execution_count": 55,
   "metadata": {},
   "outputs": [
    {
     "ename": "NameError",
     "evalue": "name 'data_ingestion_info' is not defined",
     "output_type": "error",
     "traceback": [
      "\u001b[0;31m---------------------------------------------------------------------------\u001b[0m",
      "\u001b[0;31mNameError\u001b[0m                                 Traceback (most recent call last)",
      "\u001b[1;32m/Users/asitpiri/Documents/Projects/Asit/Data Science/MLProjectAutomation/notebook/example.ipynb Cell 36'\u001b[0m in \u001b[0;36m<cell line: 1>\u001b[0;34m()\u001b[0m\n\u001b[0;32m----> <a href='vscode-notebook-cell:/Users/asitpiri/Documents/Projects/Asit/Data%20Science/MLProjectAutomation/notebook/example.ipynb#ch0000035?line=0'>1</a>\u001b[0m data_ingestion_info\n",
      "\u001b[0;31mNameError\u001b[0m: name 'data_ingestion_info' is not defined"
     ]
    }
   ],
   "source": [
    "data_ingestion_info"
   ]
  },
  {
   "cell_type": "code",
   "execution_count": 56,
   "metadata": {},
   "outputs": [
    {
     "ename": "NameError",
     "evalue": "name 'data_ingestion_info' is not defined",
     "output_type": "error",
     "traceback": [
      "\u001b[0;31m---------------------------------------------------------------------------\u001b[0m",
      "\u001b[0;31mNameError\u001b[0m                                 Traceback (most recent call last)",
      "\u001b[1;32m/Users/asitpiri/Documents/Projects/Asit/Data Science/MLProjectAutomation/notebook/example.ipynb Cell 37'\u001b[0m in \u001b[0;36m<cell line: 1>\u001b[0;34m()\u001b[0m\n\u001b[0;32m----> <a href='vscode-notebook-cell:/Users/asitpiri/Documents/Projects/Asit/Data%20Science/MLProjectAutomation/notebook/example.ipynb#ch0000036?line=0'>1</a>\u001b[0m data_ingestion_info[DATA_INGESTION_DOWNLOAD_URL_KEY]\n",
      "\u001b[0;31mNameError\u001b[0m: name 'data_ingestion_info' is not defined"
     ]
    }
   ],
   "source": [
    "data_ingestion_info[DATA_INGESTION_DOWNLOAD_URL_KEY]"
   ]
  },
  {
   "cell_type": "code",
   "execution_count": 57,
   "metadata": {},
   "outputs": [
    {
     "ename": "NameError",
     "evalue": "name 'data_ingestion_info' is not defined",
     "output_type": "error",
     "traceback": [
      "\u001b[0;31m---------------------------------------------------------------------------\u001b[0m",
      "\u001b[0;31mNameError\u001b[0m                                 Traceback (most recent call last)",
      "\u001b[1;32m/Users/asitpiri/Documents/Projects/Asit/Data Science/MLProjectAutomation/notebook/example.ipynb Cell 38'\u001b[0m in \u001b[0;36m<cell line: 1>\u001b[0;34m()\u001b[0m\n\u001b[0;32m----> <a href='vscode-notebook-cell:/Users/asitpiri/Documents/Projects/Asit/Data%20Science/MLProjectAutomation/notebook/example.ipynb#ch0000037?line=0'>1</a>\u001b[0m data_ingestion_info\n",
      "\u001b[0;31mNameError\u001b[0m: name 'data_ingestion_info' is not defined"
     ]
    }
   ],
   "source": [
    "data_ingestion_info"
   ]
  },
  {
   "cell_type": "code",
   "execution_count": 58,
   "metadata": {},
   "outputs": [
    {
     "ename": "AttributeError",
     "evalue": "'dict' object has no attribute 'get_data_ingestion_config'",
     "output_type": "error",
     "traceback": [
      "\u001b[0;31m---------------------------------------------------------------------------\u001b[0m",
      "\u001b[0;31mAttributeError\u001b[0m                            Traceback (most recent call last)",
      "\u001b[1;32m/Users/asitpiri/Documents/Projects/Asit/Data Science/MLProjectAutomation/notebook/example.ipynb Cell 39'\u001b[0m in \u001b[0;36m<cell line: 1>\u001b[0;34m()\u001b[0m\n\u001b[0;32m----> <a href='vscode-notebook-cell:/Users/asitpiri/Documents/Projects/Asit/Data%20Science/MLProjectAutomation/notebook/example.ipynb#ch0000038?line=0'>1</a>\u001b[0m config\u001b[39m.\u001b[39;49mget_data_ingestion_config()\n",
      "\u001b[0;31mAttributeError\u001b[0m: 'dict' object has no attribute 'get_data_ingestion_config'"
     ]
    }
   ],
   "source": [
    "config.get_data_ingestion_config()"
   ]
  },
  {
   "cell_type": "code",
   "execution_count": null,
   "metadata": {},
   "outputs": [],
   "source": [
    "from housing.config.configuration import Configuartion"
   ]
  },
  {
   "cell_type": "code",
   "execution_count": 59,
   "metadata": {},
   "outputs": [
    {
     "ename": "NameError",
     "evalue": "name 'Configuartion' is not defined",
     "output_type": "error",
     "traceback": [
      "\u001b[0;31m---------------------------------------------------------------------------\u001b[0m",
      "\u001b[0;31mNameError\u001b[0m                                 Traceback (most recent call last)",
      "\u001b[1;32m/Users/asitpiri/Documents/Projects/Asit/Data Science/MLProjectAutomation/notebook/example.ipynb Cell 41'\u001b[0m in \u001b[0;36m<cell line: 1>\u001b[0;34m()\u001b[0m\n\u001b[0;32m----> <a href='vscode-notebook-cell:/Users/asitpiri/Documents/Projects/Asit/Data%20Science/MLProjectAutomation/notebook/example.ipynb#ch0000040?line=0'>1</a>\u001b[0m config \u001b[39m=\u001b[39m Configuartion(config_file_path\u001b[39m=\u001b[39m\u001b[39m\"\u001b[39m\u001b[39m/Users/asitpiri/Documents/Projects/Asit/Data Science/MLProjectAutomation\u001b[39m\u001b[39m\\\u001b[39m\u001b[39mconfig\u001b[39m\u001b[39m\\\u001b[39m\u001b[39mconfig.yaml\u001b[39m\u001b[39m\"\u001b[39m)\n",
      "\u001b[0;31mNameError\u001b[0m: name 'Configuartion' is not defined"
     ]
    }
   ],
   "source": [
    "config = Configuartion(config_file_path=\"/Users/asitpiri/Documents/Projects/Asit/Data Science/MLProjectAutomation\\config\\config.yaml\")"
   ]
  },
  {
   "cell_type": "code",
   "execution_count": 60,
   "metadata": {},
   "outputs": [
    {
     "ename": "AttributeError",
     "evalue": "'dict' object has no attribute 'get_data_ingestion_config'",
     "output_type": "error",
     "traceback": [
      "\u001b[0;31m---------------------------------------------------------------------------\u001b[0m",
      "\u001b[0;31mAttributeError\u001b[0m                            Traceback (most recent call last)",
      "\u001b[1;32m/Users/asitpiri/Documents/Projects/Asit/Data Science/MLProjectAutomation/notebook/example.ipynb Cell 42'\u001b[0m in \u001b[0;36m<cell line: 1>\u001b[0;34m()\u001b[0m\n\u001b[0;32m----> <a href='vscode-notebook-cell:/Users/asitpiri/Documents/Projects/Asit/Data%20Science/MLProjectAutomation/notebook/example.ipynb#ch0000041?line=0'>1</a>\u001b[0m config\u001b[39m.\u001b[39;49mget_data_ingestion_config()\n",
      "\u001b[0;31mAttributeError\u001b[0m: 'dict' object has no attribute 'get_data_ingestion_config'"
     ]
    }
   ],
   "source": [
    "config.get_data_ingestion_config()"
   ]
  }
 ],
 "metadata": {
  "kernelspec": {
   "display_name": "Python 3.9.12 ('base')",
   "language": "python",
   "name": "python3"
  },
  "language_info": {
   "codemirror_mode": {
    "name": "ipython",
    "version": 3
   },
   "file_extension": ".py",
   "mimetype": "text/x-python",
   "name": "python",
   "nbconvert_exporter": "python",
   "pygments_lexer": "ipython3",
   "version": "3.9.12"
  },
  "orig_nbformat": 4,
  "vscode": {
   "interpreter": {
    "hash": "57a72c40fce8891484e0d916071ae03081681d9491a7527d13bbbf03d033ebd9"
   }
  }
 },
 "nbformat": 4,
 "nbformat_minor": 2
}
